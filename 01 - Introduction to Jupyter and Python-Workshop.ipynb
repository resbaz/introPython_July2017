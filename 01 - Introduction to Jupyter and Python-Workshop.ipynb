{
 "cells": [
  {
   "cell_type": "markdown",
   "metadata": {},
   "source": [
    "# Introduction to Jupyter Notebook"
   ]
  },
  {
   "cell_type": "markdown",
   "metadata": {},
   "source": [
    "\n",
    "For the next 10-15 minutes we're all going to go through the Jupyter Notebook interface and figure out exactly how it's used. \n",
    "\n",
    "Each of the \"boxes\" you can see here are called \"cells\", and these allow you to write and run code, or take notes. Every time you make a new cells it defaults to being a \"code\" cell, for programming. \n",
    "\n",
    "However, you'll notice that this section is just plain text. This is known as a \"markdown\" cell, and this can be used to take notes, or even to help format reports. You can change whether a cell is in the markdown or code format using the toggle bar up the top. \n",
    "\n",
    "There are also a range of keyboard shortcuts that allow you to easily perform a variety of actions on these cells. You can find these under the \"help\" menu item, or in the \"command palette\" (looks like a keyboard) on the side of command toggle bar. An external file for jupyter commands can be found on the [github](https://github.com/resbaz/introPython_July2017/blob/master/jupyterNotebook_Cheatsheet.pdf)."
   ]
  },
  {
   "cell_type": "markdown",
   "metadata": {
    "collapsed": true
   },
   "source": [
    "This is a markdown cell, before you \"run\" it\n",
    "\n",
    "To \"run\" a cell, you can use the keyboard command Shift-Enter, or the control bar"
   ]
  },
  {
   "cell_type": "code",
   "execution_count": null,
   "metadata": {
    "collapsed": true
   },
   "outputs": [],
   "source": [
    "These are coding cells\n"
   ]
  },
  {
   "cell_type": "code",
   "execution_count": null,
   "metadata": {
    "collapsed": true
   },
   "outputs": [],
   "source": []
  },
  {
   "cell_type": "code",
   "execution_count": null,
   "metadata": {
    "collapsed": true
   },
   "outputs": [],
   "source": []
  },
  {
   "cell_type": "markdown",
   "metadata": {
    "collapsed": true
   },
   "source": [
    "# Introduction to Python"
   ]
  },
  {
   "cell_type": "markdown",
   "metadata": {
    "collapsed": true
   },
   "source": [
    "Now that we're a bit more familiar with the Jupyter environment, let's play around with some Python\n",
    "\n",
    "**Learning Objectives:**\n",
    "- Learn the basic numeric and string data types\n",
    "- Type conversion\n",
    "- Be able to apply type-specific function to each\n",
    "    - Integers (int): \n",
    "        - Basic numeric functions: addition, subtraction, division, multiplication, power\n",
    "        - Less common function: remainder/modulo, divide and floor\n",
    "    - Strings (str):\n",
    "        - Joining two strings (concatentation), length (len), duplication (*)\n",
    "- Know how to assign something to a variable, and perform basic operations on it\n",
    "    "
   ]
  },
  {
   "cell_type": "markdown",
   "metadata": {
    "collapsed": true
   },
   "source": [
    "You may have noticed while playing around that 'running' a code cell usually gives you some errors. This is because the cell didn't contain any *commands* that the computer could recognise.\n",
    "\n",
    "A computer is very much like a dog - it can only understand and obey the commands that it's been taught to recognise\n",
    "\n",
    "![a dog](http://janfennellthedoglistener.com/static/cms/ConfusedDog.png \"When you try to give you computer human words\")\n",
    "\n",
    "\n",
    "Python, the programming language, is essentially just a system of commands that lets you command the computer to do the tricks that you want it to do. Imagine that your computer is like a very well trained dog that you've adopted from the shelter, and now you need to learn what commands your computer-dog responds to. \n"
   ]
  },
  {
   "cell_type": "markdown",
   "metadata": {},
   "source": [
    "An example of a command that your computer understands is some very simple math. Let try to do some basic arithmetic"
   ]
  },
  {
   "cell_type": "code",
   "execution_count": null,
   "metadata": {
    "collapsed": true
   },
   "outputs": [],
   "source": [
    "# You can add and subtract numbers\n"
   ]
  },
  {
   "cell_type": "code",
   "execution_count": null,
   "metadata": {
    "collapsed": true
   },
   "outputs": [],
   "source": [
    "# Work with negative numbers\n"
   ]
  },
  {
   "cell_type": "code",
   "execution_count": null,
   "metadata": {
    "collapsed": true
   },
   "outputs": [],
   "source": [
    "# As well as multiply and divide\n"
   ]
  },
  {
   "cell_type": "code",
   "execution_count": null,
   "metadata": {
    "collapsed": true
   },
   "outputs": [],
   "source": [
    "# You can square numbers using the \"power\" command, **\n"
   ]
  },
  {
   "cell_type": "code",
   "execution_count": null,
   "metadata": {
    "collapsed": true
   },
   "outputs": [],
   "source": [
    "# And even use a few different commands, like:\n",
    "\n",
    "#Divide and floor, //\n"
   ]
  },
  {
   "cell_type": "code",
   "execution_count": null,
   "metadata": {
    "collapsed": true
   },
   "outputs": [],
   "source": [
    "# and Modulo (a.k.a the remainder), %\n",
    "# Think of this one as a \"divide\" function that returns you the amount left over after division\n"
   ]
  },
  {
   "cell_type": "markdown",
   "metadata": {},
   "source": [
    "What do you think would happen here?"
   ]
  },
  {
   "cell_type": "code",
   "execution_count": null,
   "metadata": {
    "collapsed": true
   },
   "outputs": [],
   "source": [
    "5 + 4/2*5\n"
   ]
  },
  {
   "cell_type": "markdown",
   "metadata": {},
   "source": [
    "This was your first introduction to the **_numeric_** data types of Python. Namely, integers (int) and floats (floating point numbers, or decimals). You can do almost the same things with floats as you can with integers, except with greater precision. However, sometimes you *need* to know which data type you're working with. You can do this with a **function**, called `type()`.\n",
    "\n",
    "We will learn more about functions later, but for now all you need to know is that a function allows you to perform specific, and often complicated, actions on your code or data. \n",
    "\n",
    "In this instance, `type()` will output the data type that you're working with."
   ]
  },
  {
   "cell_type": "code",
   "execution_count": null,
   "metadata": {
    "collapsed": true
   },
   "outputs": [],
   "source": [
    "type(2)"
   ]
  },
  {
   "cell_type": "code",
   "execution_count": null,
   "metadata": {
    "collapsed": true
   },
   "outputs": [],
   "source": [
    "type(2.0)"
   ]
  },
  {
   "cell_type": "code",
   "execution_count": null,
   "metadata": {
    "collapsed": true
   },
   "outputs": [],
   "source": []
  },
  {
   "cell_type": "markdown",
   "metadata": {},
   "source": [
    "### Strings\n",
    "Another useful data type are *strings*. These are essentially text. You can tell Python that something is a string type by wrapping it in quotes marks"
   ]
  },
  {
   "cell_type": "code",
   "execution_count": null,
   "metadata": {
    "collapsed": true
   },
   "outputs": [],
   "source": [
    "\"This is a string\""
   ]
  },
  {
   "cell_type": "code",
   "execution_count": null,
   "metadata": {
    "collapsed": true
   },
   "outputs": [],
   "source": [
    "type('This is too')"
   ]
  },
  {
   "cell_type": "code",
   "execution_count": null,
   "metadata": {
    "collapsed": true
   },
   "outputs": [],
   "source": []
  },
  {
   "cell_type": "markdown",
   "metadata": {},
   "source": [
    "Since it's not a numeric type, we can't do the same things to a string that we can to an int or float. But there are a few other things we can do instead!\n",
    "\n",
    "An example of this is concatentation, or adding two strings together. Try adding your first name and last name"
   ]
  },
  {
   "cell_type": "code",
   "execution_count": null,
   "metadata": {
    "collapsed": true
   },
   "outputs": [],
   "source": [
    "#Example: \"FirstName\" + \"Last Name\"\n",
    "#Try it yourself!"
   ]
  },
  {
   "cell_type": "code",
   "execution_count": null,
   "metadata": {
    "collapsed": true
   },
   "outputs": [],
   "source": [
    "\n"
   ]
  },
  {
   "cell_type": "markdown",
   "metadata": {},
   "source": [
    "Oh no! That happened because Python doesn't automatically add in a space between two strings, which means that we have to do it ourselves. Let's try again."
   ]
  },
  {
   "cell_type": "code",
   "execution_count": null,
   "metadata": {
    "collapsed": true
   },
   "outputs": [],
   "source": [
    "# We have two options, \"FirstName \" + \"LastName\"\n"
   ]
  },
  {
   "cell_type": "code",
   "execution_count": null,
   "metadata": {
    "collapsed": true
   },
   "outputs": [],
   "source": [
    "# Or \"FirstName\" + \" \" + \"LastName\"\n"
   ]
  },
  {
   "cell_type": "markdown",
   "metadata": {},
   "source": [
    "We can also multiply our strings by a number to duplicate it"
   ]
  },
  {
   "cell_type": "code",
   "execution_count": null,
   "metadata": {
    "collapsed": true
   },
   "outputs": [],
   "source": [
    "\"Mine \" * 5"
   ]
  },
  {
   "cell_type": "markdown",
   "metadata": {},
   "source": [
    "^\n",
    "\n",
    "\\* this reminds me a little of finding nemo\\*\n",
    "![seagulls shuouting mine](https://vignette3.wikia.nocookie.net/disney/images/9/99/Nemo-Seagulls_.jpg/revision/latest?cb=20110913023141)"
   ]
  },
  {
   "cell_type": "markdown",
   "metadata": {},
   "source": [
    "There are also some great functions that you can apply to strings. An example of this is `len()`, which tells you how long your string is"
   ]
  },
  {
   "cell_type": "code",
   "execution_count": null,
   "metadata": {
    "collapsed": true
   },
   "outputs": [],
   "source": []
  },
  {
   "cell_type": "code",
   "execution_count": null,
   "metadata": {
    "collapsed": true
   },
   "outputs": [],
   "source": []
  },
  {
   "cell_type": "markdown",
   "metadata": {},
   "source": [
    "A couple of other string functions that are good to know are `upper()`, `lower()`, and `capitalize()`.\n",
    "\n",
    "Unlike `type()` and `len()`, you actually use these in a slightly different way. This is because, while `upper()`, `lower()`, and `capitalize()` are functions, they can **ONLY** be used on strings. With these types of functions, we call them *methods* instead, and *methods* can be used with the `str.functionName()` format"
   ]
  },
  {
   "cell_type": "code",
   "execution_count": null,
   "metadata": {
    "collapsed": true
   },
   "outputs": [],
   "source": [
    "#.upper() capitalises everything\n",
    "\n"
   ]
  },
  {
   "cell_type": "code",
   "execution_count": null,
   "metadata": {
    "collapsed": true
   },
   "outputs": [],
   "source": [
    "#While lower makes everything lower case\n",
    "#Try it with .lower()\n"
   ]
  },
  {
   "cell_type": "code",
   "execution_count": null,
   "metadata": {
    "collapsed": true
   },
   "outputs": [],
   "source": [
    "#.capitalize() will capitalise the first letter of the string, and make everything else lower case\n",
    "\n"
   ]
  },
  {
   "cell_type": "markdown",
   "metadata": {},
   "source": [
    "*Question: what happens if you try to use these on an int?*"
   ]
  },
  {
   "cell_type": "code",
   "execution_count": null,
   "metadata": {
    "collapsed": true
   },
   "outputs": [],
   "source": []
  },
  {
   "cell_type": "code",
   "execution_count": null,
   "metadata": {
    "collapsed": true
   },
   "outputs": [],
   "source": []
  },
  {
   "cell_type": "markdown",
   "metadata": {},
   "source": [
    "### Data Type Coercion\n",
    "\n",
    "You can also convert different data types into another using *type coercion*.\n",
    "\n",
    "For example, say that I've done some calculations to figure out how many people can fit into an elevator, and got a decimal number, like 3.14159265359. It doesn't make much sense to have 0.14159265359 of person, does it? So I would just want to convert this into an integer."
   ]
  },
  {
   "cell_type": "code",
   "execution_count": null,
   "metadata": {
    "collapsed": true
   },
   "outputs": [],
   "source": [
    "# But be warned! This ALWAYS rounds down\n",
    "int(3.14159265359),int(3.6)"
   ]
  },
  {
   "cell_type": "code",
   "execution_count": null,
   "metadata": {
    "collapsed": true
   },
   "outputs": [],
   "source": [
    "float(3)"
   ]
  },
  {
   "cell_type": "markdown",
   "metadata": {},
   "source": [
    "Type conversion will only work where it makes sense to do so. Try to turn a string into a number"
   ]
  },
  {
   "cell_type": "code",
   "execution_count": null,
   "metadata": {
    "collapsed": true
   },
   "outputs": [],
   "source": [
    "int(\"35\")"
   ]
  },
  {
   "cell_type": "code",
   "execution_count": null,
   "metadata": {
    "collapsed": true,
    "scrolled": false
   },
   "outputs": [],
   "source": [
    "#This won't work\n",
    "int(\"I don't think this will work\")"
   ]
  },
  {
   "cell_type": "code",
   "execution_count": null,
   "metadata": {
    "collapsed": true
   },
   "outputs": [],
   "source": [
    "# But this one is perfectly fine\n",
    "str(1000000)"
   ]
  },
  {
   "cell_type": "markdown",
   "metadata": {},
   "source": [
    "Similarly, certain functions won't work on certain data types. Try to take the `len()` of a number, for example"
   ]
  },
  {
   "cell_type": "code",
   "execution_count": null,
   "metadata": {
    "collapsed": true,
    "scrolled": false
   },
   "outputs": [],
   "source": []
  },
  {
   "cell_type": "markdown",
   "metadata": {},
   "source": [
    "Dang! But I'd forgotten how many 0's were in a million! What if turn that number into a string first?"
   ]
  },
  {
   "cell_type": "code",
   "execution_count": null,
   "metadata": {
    "collapsed": true
   },
   "outputs": [],
   "source": []
  },
  {
   "cell_type": "markdown",
   "metadata": {},
   "source": [
    "But that's got one too many numbers, I only want the number of 0's!"
   ]
  },
  {
   "cell_type": "code",
   "execution_count": null,
   "metadata": {
    "collapsed": true
   },
   "outputs": [],
   "source": []
  },
  {
   "cell_type": "markdown",
   "metadata": {},
   "source": [
    "### Variables\n",
    "\n",
    "Some of these things are getting a bit lengthy. Could you imagine needing to type out the *same* numbers, and the *same* string every time you want to use it? What about if you wanted to do some math on the number? How are you going to save that number for later?\n",
    "\n",
    "Simply! What we can do is assign these to a variable. \n",
    "\n",
    "We can do this using the '=' sign"
   ]
  },
  {
   "cell_type": "code",
   "execution_count": null,
   "metadata": {
    "collapsed": true
   },
   "outputs": [],
   "source": [
    "name = \"FirstName LastName\""
   ]
  },
  {
   "cell_type": "code",
   "execution_count": null,
   "metadata": {
    "collapsed": true
   },
   "outputs": [],
   "source": [
    "name"
   ]
  },
  {
   "cell_type": "code",
   "execution_count": null,
   "metadata": {
    "collapsed": true
   },
   "outputs": [],
   "source": [
    "# If I want the variable without the quote marks I can use the print() function\n",
    "print(name)"
   ]
  },
  {
   "cell_type": "markdown",
   "metadata": {},
   "source": [
    "I can over-write this variable"
   ]
  },
  {
   "cell_type": "code",
   "execution_count": null,
   "metadata": {
    "collapsed": true
   },
   "outputs": [],
   "source": [
    "name = 3\n",
    "\n",
    "name"
   ]
  },
  {
   "cell_type": "markdown",
   "metadata": {},
   "source": [
    "And even perform operations and functions on it"
   ]
  },
  {
   "cell_type": "code",
   "execution_count": null,
   "metadata": {
    "collapsed": true
   },
   "outputs": [],
   "source": []
  },
  {
   "cell_type": "code",
   "execution_count": null,
   "metadata": {
    "collapsed": true
   },
   "outputs": [],
   "source": []
  },
  {
   "cell_type": "markdown",
   "metadata": {},
   "source": [
    "I can also assign the results of an operation into a new variable too."
   ]
  },
  {
   "cell_type": "code",
   "execution_count": null,
   "metadata": {
    "collapsed": true
   },
   "outputs": [],
   "source": [
    "name = 'Kahli'\n",
    "times = 3\n",
    "example_operation = name * times\n",
    "print(example_operation)"
   ]
  },
  {
   "cell_type": "markdown",
   "metadata": {},
   "source": [
    "And use it in a print statement just as I would any other data type"
   ]
  },
  {
   "cell_type": "code",
   "execution_count": null,
   "metadata": {
    "collapsed": true
   },
   "outputs": [],
   "source": [
    "temp_number = 4"
   ]
  },
  {
   "cell_type": "code",
   "execution_count": null,
   "metadata": {
    "collapsed": true
   },
   "outputs": [],
   "source": [
    "print(\"Temporary = \" + str(temp_number))"
   ]
  },
  {
   "cell_type": "code",
   "execution_count": null,
   "metadata": {
    "collapsed": true
   },
   "outputs": [],
   "source": []
  },
  {
   "cell_type": "markdown",
   "metadata": {},
   "source": [
    "#### The dark art of variable Names:\n",
    "\n",
    "Python has basically only three rules about naming variables:\n",
    "- names you define must start with a letter (a-z,A-Z) or underscore (_) and can be followed by any number of letters, >digits (0-9), or underscores\n",
    "- names you define cannot be the same as any of Python's reserved words (see handout)\n",
    "- names are case-sensitive: 'YOU', 'you', 'You', and 'yOu' are all different names in Python\n",
    "- Note that '-', '+', '*', and '/' are used by Python for defining operations on data and cannot be used in names\n",
    "\n",
    "\n",
    "Also, try to make your variable names mean something. It can be very confusing for someone else reading your code (or even yourself, after a long break) if you write something filled with a number of different `temp` or `foo1`, `foo2`, etc variables."
   ]
  },
  {
   "cell_type": "code",
   "execution_count": null,
   "metadata": {
    "collapsed": true
   },
   "outputs": [],
   "source": []
  },
  {
   "cell_type": "markdown",
   "metadata": {},
   "source": [
    "#### Mini Challenge 1\n",
    "Assign your team name, how many members you have, and your average (mean) age to three separate variables. Print these out on the same line in this format:\n",
    "\n",
    "\"Our team name is TeamName. We have X members and we are, on average, Y years old\""
   ]
  },
  {
   "cell_type": "code",
   "execution_count": null,
   "metadata": {
    "collapsed": true
   },
   "outputs": [],
   "source": []
  },
  {
   "cell_type": "code",
   "execution_count": null,
   "metadata": {
    "collapsed": true
   },
   "outputs": [],
   "source": []
  },
  {
   "cell_type": "code",
   "execution_count": null,
   "metadata": {
    "collapsed": true
   },
   "outputs": [],
   "source": []
  },
  {
   "cell_type": "code",
   "execution_count": null,
   "metadata": {
    "collapsed": true
   },
   "outputs": [],
   "source": []
  },
  {
   "cell_type": "code",
   "execution_count": null,
   "metadata": {
    "collapsed": true
   },
   "outputs": [],
   "source": []
  }
 ],
 "metadata": {
  "kernelspec": {
   "display_name": "Python 3",
   "language": "python",
   "name": "python3"
  },
  "language_info": {
   "codemirror_mode": {
    "name": "ipython",
    "version": 3
   },
   "file_extension": ".py",
   "mimetype": "text/x-python",
   "name": "python",
   "nbconvert_exporter": "python",
   "pygments_lexer": "ipython3",
   "version": "3.6.1"
  }
 },
 "nbformat": 4,
 "nbformat_minor": 2
}
