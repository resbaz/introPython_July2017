{
 "cells": [
  {
   "cell_type": "markdown",
   "metadata": {},
   "source": [
    "# Conditionals\n",
    "\n",
    "In this session we are going to learn how to program your computer to make choices about which action it should perform\n",
    "\n",
    "\n",
    "### Learning Objectives\n",
    "\n",
    "- Write conditional statements including `if`, `elif`, and `else` branches\n",
    "- Correctly evaluate expressions containing `and` and `or`\n",
    "- Correctly write and interpret code containing nested conditionals\n"
   ]
  },
  {
   "cell_type": "markdown",
   "metadata": {},
   "source": [
    "Conditionals allow you make the computer or program perform a certain action depending on particular conditions.\n",
    "\n",
    "But to assess a condition, we first need to understand how we can test them.\n",
    "\n",
    "These tests are usually done using \"equality operators\". Things like:\n",
    "\n",
    "- `<`, less than\n",
    "- `>`, greater than\n",
    "- `<=` less than or equal to\n",
    "- `>=` greater than or equal to\n",
    "- `==`, equals\n",
    "- `!=`, does not equal\n",
    "- `is`, `in` and `not`\n",
    "\n",
    "Let's try using these in our cells"
   ]
  },
  {
   "cell_type": "code",
   "execution_count": 7,
   "metadata": {},
   "outputs": [
    {
     "name": "stdout",
     "output_type": "stream",
     "text": [
      "True\n",
      "False\n"
     ]
    }
   ],
   "source": [
    "print(5 > 3)\n",
    "print(4 <= 3)"
   ]
  },
  {
   "cell_type": "code",
   "execution_count": 8,
   "metadata": {},
   "outputs": [
    {
     "name": "stdout",
     "output_type": "stream",
     "text": [
      "True\n",
      "True\n"
     ]
    }
   ],
   "source": [
    "print(3 == 3)\n",
    "print(2 != 6)"
   ]
  },
  {
   "cell_type": "code",
   "execution_count": 16,
   "metadata": {},
   "outputs": [
    {
     "data": {
      "text/plain": [
       "True"
      ]
     },
     "execution_count": 16,
     "metadata": {},
     "output_type": "execute_result"
    }
   ],
   "source": [
    "# Can use in to test whether something exists in a data structure\n",
    "# like a list\n"
   ]
  },
  {
   "cell_type": "code",
   "execution_count": 17,
   "metadata": {},
   "outputs": [
    {
     "name": "stdout",
     "output_type": "stream",
     "text": [
      "{}\n"
     ]
    },
    {
     "data": {
      "text/plain": [
       "False"
      ]
     },
     "execution_count": 17,
     "metadata": {},
     "output_type": "execute_result"
    }
   ],
   "source": [
    "# or a dictionary\n",
    "temp_dict = dict()\n",
    "print(temp_dict)\n",
    "\n"
   ]
  },
  {
   "cell_type": "code",
   "execution_count": 18,
   "metadata": {},
   "outputs": [
    {
     "data": {
      "text/plain": [
       "True"
      ]
     },
     "execution_count": 18,
     "metadata": {},
     "output_type": "execute_result"
    }
   ],
   "source": [
    "# or if it is not in a data structure\n",
    "\n",
    "\n"
   ]
  },
  {
   "cell_type": "markdown",
   "metadata": {},
   "source": [
    "These conditonal statements are returning True and False when you run this code. These just so happen to be another data type, **booleans**. These are the simplest ones, as they can only be `True` or `False`. You can also make vairables have boolean values, and test those."
   ]
  },
  {
   "cell_type": "code",
   "execution_count": 21,
   "metadata": {},
   "outputs": [
    {
     "data": {
      "text/plain": [
       "True"
      ]
     },
     "execution_count": 21,
     "metadata": {},
     "output_type": "execute_result"
    }
   ],
   "source": [
    "#example\n",
    "test = True\n",
    "\n",
    "# Can test True/False in a few ways. Using ==, or is/not."
   ]
  },
  {
   "cell_type": "markdown",
   "metadata": {},
   "source": [
    "Now that we've got some basics down, let's try to use these inside something a bit more complicated"
   ]
  },
  {
   "cell_type": "markdown",
   "metadata": {},
   "source": [
    "Take a situation like this for example - \n",
    "\n",
    "It's early morning. I wake up, and need to get ready for the day. What decisions should I make? What should I check before I leave?\n",
    "\n",
    "Firstly, let's say that it's winter."
   ]
  },
  {
   "cell_type": "code",
   "execution_count": 23,
   "metadata": {
    "collapsed": true
   },
   "outputs": [],
   "source": [
    "winter = True #this is a Boolean type. Booleans are True or False."
   ]
  },
  {
   "cell_type": "markdown",
   "metadata": {},
   "source": [
    "I can now use the function, `if`, to test something and then perform an action based on that."
   ]
  },
  {
   "cell_type": "code",
   "execution_count": 26,
   "metadata": {},
   "outputs": [
    {
     "name": "stdout",
     "output_type": "stream",
     "text": [
      "That's some interesting weather we're having\n"
     ]
    }
   ],
   "source": [
    "if winter is not True:\n",
    "    print(\"Oh good, I can wear a dress again\")\n",
    "\n",
    "print(\"That's some interesting weather we're having\")"
   ]
  },
  {
   "cell_type": "code",
   "execution_count": null,
   "metadata": {
    "collapsed": true
   },
   "outputs": [],
   "source": []
  },
  {
   "cell_type": "code",
   "execution_count": null,
   "metadata": {
    "collapsed": true
   },
   "outputs": [],
   "source": []
  },
  {
   "cell_type": "code",
   "execution_count": null,
   "metadata": {
    "collapsed": true
   },
   "outputs": [],
   "source": []
  },
  {
   "cell_type": "code",
   "execution_count": null,
   "metadata": {
    "collapsed": true
   },
   "outputs": [],
   "source": []
  },
  {
   "cell_type": "code",
   "execution_count": null,
   "metadata": {
    "collapsed": true
   },
   "outputs": [],
   "source": []
  },
  {
   "cell_type": "markdown",
   "metadata": {},
   "source": [
    "We can also place conditional statements within a conditional statement. This is known as nesting."
   ]
  },
  {
   "cell_type": "code",
   "execution_count": null,
   "metadata": {
    "collapsed": true
   },
   "outputs": [],
   "source": []
  },
  {
   "cell_type": "code",
   "execution_count": null,
   "metadata": {
    "collapsed": true
   },
   "outputs": [],
   "source": []
  },
  {
   "cell_type": "markdown",
   "metadata": {},
   "source": [
    "### Challenge 2\n",
    "\n",
    "Together with your team mates, come up with your own morning routine. Try to use as many of the conditional testers as you can, without nesting more than 2-3 if statements.\n",
    "\n"
   ]
  },
  {
   "cell_type": "code",
   "execution_count": null,
   "metadata": {
    "collapsed": true
   },
   "outputs": [],
   "source": []
  },
  {
   "cell_type": "code",
   "execution_count": null,
   "metadata": {
    "collapsed": true
   },
   "outputs": [],
   "source": []
  },
  {
   "cell_type": "code",
   "execution_count": null,
   "metadata": {
    "collapsed": true
   },
   "outputs": [],
   "source": []
  },
  {
   "cell_type": "markdown",
   "metadata": {},
   "source": [
    "# For Loops\n",
    "\n",
    "- Explain what a for loop does.\n",
    "- Correctly write for loops to repeat simple calculations.\n",
    "- Trace changes to a loop variable as the loop runs.\n",
    "- Trace changes to other variables as they are updated by a for loop.\n",
    "\n",
    "\n"
   ]
  },
  {
   "cell_type": "markdown",
   "metadata": {},
   "source": [
    "Suppose we want to print each character in the word \"lead\" on a line of its own. One way is to use four print statements:"
   ]
  },
  {
   "cell_type": "code",
   "execution_count": 29,
   "metadata": {},
   "outputs": [
    {
     "name": "stdout",
     "output_type": "stream",
     "text": [
      "l\n",
      "e\n",
      "a\n",
      "d\n"
     ]
    }
   ],
   "source": [
    "element = \"lead\"\n",
    "print(element[0])\n",
    "print(element[1])\n",
    "print(element[2])\n",
    "print(element[3])"
   ]
  },
  {
   "cell_type": "markdown",
   "metadata": {},
   "source": [
    "But that's a bad approach. Firstly, you're doing a lot more typing than you need to, and it doesn't scale well. If you wanted to print every single letter in a sentence, or paragraph, you'd spend more time programming it than if you had just copied it out yourself. \n",
    "\n",
    "Secondly, if you were trying to automate something - so that it does something without you needing to be there every step of the way - this approach wouldn't work at all. Not every string, or list, or dictionary, is going to be the exact same size. You would need to program a new code every time you got new data."
   ]
  },
  {
   "cell_type": "markdown",
   "metadata": {},
   "source": [
    "Instead, we can use `for` loops. This is a function that lets us \"iterate\" over your strings and other data structures."
   ]
  },
  {
   "cell_type": "code",
   "execution_count": 34,
   "metadata": {},
   "outputs": [
    {
     "name": "stdout",
     "output_type": "stream",
     "text": [
      "l\n",
      "e\n",
      "a\n",
      "d\n"
     ]
    }
   ],
   "source": [
    "for char in element:\n",
    "    print(char)"
   ]
  },
  {
   "cell_type": "markdown",
   "metadata": {},
   "source": [
    "The general structure of a `for` loop looks like this\n",
    "\n",
    "```python\n",
    "for variable in collection:\n",
    "    do a thing\n",
    "```"
   ]
  },
  {
   "cell_type": "code",
   "execution_count": null,
   "metadata": {
    "collapsed": true
   },
   "outputs": [],
   "source": [
    "length = 0\n",
    "for vowel in 'aeiou':\n",
    "    length = length + 1\n",
    "print 'There are', length, 'vowels'"
   ]
  },
  {
   "cell_type": "code",
   "execution_count": null,
   "metadata": {
    "collapsed": true
   },
   "outputs": [],
   "source": []
  },
  {
   "cell_type": "code",
   "execution_count": null,
   "metadata": {
    "collapsed": true
   },
   "outputs": [],
   "source": []
  },
  {
   "cell_type": "markdown",
   "metadata": {},
   "source": [
    "Note that a loop variable is just a variable that's being used to record progress in a loop. It still exists after the loop is over, and we can re-use variables previously defined as loop variables as well:"
   ]
  },
  {
   "cell_type": "code",
   "execution_count": 38,
   "metadata": {},
   "outputs": [
    {
     "name": "stdout",
     "output_type": "stream",
     "text": [
      "Before the loop, letter is z\n",
      "a\n",
      "b\n",
      "c\n",
      "after the loop, letter is c\n"
     ]
    }
   ],
   "source": [
    "letter = 'z'\n",
    "print(\"Before the loop, letter is\", letter)\n",
    "for letter in 'abc':\n",
    "    print (letter)\n",
    "print ('after the loop, letter is', letter)"
   ]
  },
  {
   "cell_type": "markdown",
   "metadata": {},
   "source": [
    "We can naturally loop over each of the elements of a string because strings are actually an example of a sequence data type. Generally speaking, we can only use a **collection**, as defined earlier, to loop over if it is an *iterable*. \n",
    "\n",
    "An example of data types which are inherently iterable are lists and strings"
   ]
  },
  {
   "cell_type": "code",
   "execution_count": 42,
   "metadata": {},
   "outputs": [
    {
     "name": "stdout",
     "output_type": "stream",
     "text": [
      "1\n",
      "2\n",
      "6\n",
      "4\n"
     ]
    }
   ],
   "source": [
    "for i in [1,2,6,4]:\n",
    "    print (i)"
   ]
  },
  {
   "cell_type": "markdown",
   "metadata": {},
   "source": [
    "For everything else, we need to create or use an iterator"
   ]
  },
  {
   "cell_type": "code",
   "execution_count": null,
   "metadata": {
    "collapsed": true
   },
   "outputs": [],
   "source": [
    "tempDict = {\"key1\":\"value1\",\"key2\":\"value2\",\"key3\":\"value3\"}\n",
    "\n",
    "print (tempDict)\n",
    "\n",
    "for k,v in tempDict:\n",
    "    print(k,v)"
   ]
  },
  {
   "cell_type": "markdown",
   "metadata": {},
   "source": [
    "#### Range\n",
    "\n",
    "The `range()` function allows us to create our own iterator when using loops."
   ]
  },
  {
   "cell_type": "code",
   "execution_count": 56,
   "metadata": {},
   "outputs": [
    {
     "data": {
      "text/plain": [
       "range(0, 3)"
      ]
     },
     "execution_count": 56,
     "metadata": {},
     "output_type": "execute_result"
    }
   ],
   "source": [
    "# from 0 to 3 (non inclusive)\n",
    "range(3)"
   ]
  },
  {
   "cell_type": "code",
   "execution_count": 57,
   "metadata": {},
   "outputs": [
    {
     "data": {
      "text/plain": [
       "range(2, 5)"
      ]
     },
     "execution_count": 57,
     "metadata": {},
     "output_type": "execute_result"
    }
   ],
   "source": [
    "#start and end\n",
    "range(2,5)"
   ]
  },
  {
   "cell_type": "code",
   "execution_count": 63,
   "metadata": {},
   "outputs": [
    {
     "data": {
      "text/plain": [
       "range(2, 7, 5)"
      ]
     },
     "execution_count": 63,
     "metadata": {},
     "output_type": "execute_result"
    }
   ],
   "source": [
    "# from 2 to 7 (non inclusive), stepping by two\n",
    "range(2,7,4)"
   ]
  },
  {
   "cell_type": "code",
   "execution_count": 64,
   "metadata": {},
   "outputs": [
    {
     "name": "stdout",
     "output_type": "stream",
     "text": [
      "True\n"
     ]
    }
   ],
   "source": []
  },
  {
   "cell_type": "markdown",
   "metadata": {},
   "source": [
    "### Challenge 3\n",
    "\n",
    "In your teams, write a loop that calculates the same result as 5 \\*\\* 3 using multiplication, without using exponentiation.\n",
    "\n",
    "**Extra points**: try to make the loop use variables defined outside the loop, instead of explicitly programming 5 and 3."
   ]
  },
  {
   "cell_type": "code",
   "execution_count": 66,
   "metadata": {
    "collapsed": true
   },
   "outputs": [],
   "source": [
    "\n",
    "\n",
    "\n"
   ]
  },
  {
   "cell_type": "code",
   "execution_count": null,
   "metadata": {
    "collapsed": true
   },
   "outputs": [],
   "source": []
  },
  {
   "cell_type": "code",
   "execution_count": null,
   "metadata": {
    "collapsed": true
   },
   "outputs": [],
   "source": []
  },
  {
   "cell_type": "markdown",
   "metadata": {},
   "source": [
    "# While Loops\n",
    "\n",
    "The while statement allows you to repeatedly execute a block of statements as long as a condition is true. A while statement can have an optional else clause.\n",
    "\n"
   ]
  },
  {
   "cell_type": "code",
   "execution_count": 76,
   "metadata": {},
   "outputs": [
    {
     "name": "stdout",
     "output_type": "stream",
     "text": [
      "loop number: 1\n",
      "loop number: 2\n",
      "loop number: 3\n",
      "loop number: 4\n",
      "loop number: 5\n",
      "end of the line, sucker\n"
     ]
    }
   ],
   "source": [
    "n = 0\n",
    "\n",
    "while n < 5:\n",
    "    n = n+1\n",
    "    print(\"loop number:\", n)\n",
    "else: \n",
    "    print(\"end of the line, sucker\")"
   ]
  },
  {
   "cell_type": "markdown",
   "metadata": {},
   "source": [
    "How we could use a while loop to do the exponential calculations earlier"
   ]
  },
  {
   "cell_type": "code",
   "execution_count": 85,
   "metadata": {},
   "outputs": [
    {
     "name": "stdout",
     "output_type": "stream",
     "text": [
      "125\n"
     ]
    }
   ],
   "source": [
    "power = 3\n",
    "n = 5\n",
    "start = None\n",
    "\n",
    "while power > 0:\n",
    "    if start is None:\n",
    "        start = n\n",
    "    else: \n",
    "        start = start * n\n",
    "    power -= 1\n",
    "    \n",
    "\n",
    "print (start)"
   ]
  },
  {
   "cell_type": "code",
   "execution_count": null,
   "metadata": {
    "collapsed": true
   },
   "outputs": [],
   "source": []
  },
  {
   "cell_type": "code",
   "execution_count": null,
   "metadata": {
    "collapsed": true
   },
   "outputs": [],
   "source": []
  },
  {
   "cell_type": "markdown",
   "metadata": {},
   "source": [
    "Let's get a bit more complicated.\n",
    "\n",
    "This code inputs an integer n for which it computes and prints the nth Fibonacci number. Remember that Fibonacci sequence is that every number after the first two is the sum of the two preceding ones, and goes approximately like:\n",
    "**1, 1, 2, 3, 5, 8, 13, 21, 34, 55, 89, 144, ...**\n"
   ]
  },
  {
   "cell_type": "code",
   "execution_count": 73,
   "metadata": {},
   "outputs": [
    {
     "name": "stdout",
     "output_type": "stream",
     "text": [
      "Fn = 1\n"
     ]
    }
   ],
   "source": [
    "# Make the fibonacci sequence"
   ]
  },
  {
   "cell_type": "markdown",
   "metadata": {},
   "source": [
    "Here is how the algorithm works in a bit more detail:\n",
    "\n",
    "- We first initialize (set to their starting values) variables f0 and f1 to 0 and 1 respectively.\n",
    "- Then we run a loop as long as n > 1. \n",
    "- In that loop, we compute the sum f0 + f1 and save it for later in the variable nxt (short of \"next\", which we don't use because next is a built-in Python function).\n",
    "- We assign f0 = f1 and f1 = nxt. In other words, the new value of f0 is equal to the old >value of f1 and the new value is equal to the sum of old >values of f0 and f1.\n",
    "- We reduce n by 1."
   ]
  },
  {
   "cell_type": "code",
   "execution_count": null,
   "metadata": {
    "collapsed": true
   },
   "outputs": [],
   "source": []
  },
  {
   "cell_type": "code",
   "execution_count": null,
   "metadata": {
    "collapsed": true
   },
   "outputs": [],
   "source": []
  },
  {
   "cell_type": "markdown",
   "metadata": {},
   "source": [
    "### Challenge 4\n",
    "\n",
    "Write a `while` loop that takes a string, and produces a new string with the characters in reverse order, without using the `.reverse()` function:\n",
    "i.e. 'Newton' becomes 'notweN'."
   ]
  },
  {
   "cell_type": "code",
   "execution_count": null,
   "metadata": {
    "collapsed": true
   },
   "outputs": [],
   "source": []
  }
 ],
 "metadata": {
  "kernelspec": {
   "display_name": "Python 3",
   "language": "python",
   "name": "python3"
  },
  "language_info": {
   "codemirror_mode": {
    "name": "ipython",
    "version": 3
   },
   "file_extension": ".py",
   "mimetype": "text/x-python",
   "name": "python",
   "nbconvert_exporter": "python",
   "pygments_lexer": "ipython3",
   "version": "3.6.1"
  }
 },
 "nbformat": 4,
 "nbformat_minor": 2
}
