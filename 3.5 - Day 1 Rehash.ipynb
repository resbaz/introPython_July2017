{
 "cells": [
  {
   "cell_type": "markdown",
   "metadata": {},
   "source": [
    "# Rehash\n",
    "\n",
    "### Data Types\n",
    "The 3 main data types in python that we'll be working with are int (integers), float (decimals) and str (strings of text).\n",
    "\n",
    "To make a string in python, you can just surround a piece of text - like a word, sentence or number - in quote marks, like \" \", or ' '. \n",
    "\n"
   ]
  },
  {
   "cell_type": "code",
   "execution_count": null,
   "metadata": {
    "scrolled": true
   },
   "outputs": [],
   "source": []
  },
  {
   "cell_type": "markdown",
   "metadata": {},
   "source": [
    "### Variables\n",
    "\n",
    "When you type something into your python code box, your computer will perform an action on it. To actually *save* that value though, you need to assign it to a *variable*. You can do this using the '=' sign, like this: `variableName = value`.\n",
    "\n",
    "Once you've given your variable a value, you can then use it to do everything that you would on that value by itself. This includes math, using a function on it, changing its value, and much more.\n",
    "\n",
    "\n",
    "\n"
   ]
  },
  {
   "cell_type": "code",
   "execution_count": null,
   "metadata": {},
   "outputs": [],
   "source": [
    "# I make my variable\n",
    "number = 3\n",
    "\n",
    "# I can then do math on it, and update my variable with the new value\n",
    "number = number ** 3 + 10\n",
    "\n",
    "number"
   ]
  },
  {
   "cell_type": "code",
   "execution_count": null,
   "metadata": {
    "collapsed": true
   },
   "outputs": [],
   "source": []
  },
  {
   "cell_type": "markdown",
   "metadata": {},
   "source": [
    "### Lists\n",
    "\n",
    "A list is an example of a \"collection\" of data - something that allows you to store multiple values or variables in a single structure. \n",
    "\n",
    "Lists are identified with [] in python. A list is just like a list in real life - an ordered collection of items. Lists can contain any data type inside of them. You can combine strings, ints, floats, or even other lists inside your list.\n",
    "\n",
    "To find a particular piece of data inside your list, you can use list[index]\n",
    "\n"
   ]
  },
  {
   "cell_type": "code",
   "execution_count": null,
   "metadata": {
    "collapsed": true
   },
   "outputs": [],
   "source": []
  },
  {
   "cell_type": "code",
   "execution_count": null,
   "metadata": {
    "collapsed": true
   },
   "outputs": [],
   "source": []
  },
  {
   "cell_type": "markdown",
   "metadata": {},
   "source": [
    "\n",
    "### Dictionaries\n",
    "\n",
    "Dictionaries are identified with {} in python. A dictionary stores each piece of data with a \"key\" that allows it be easily found. These are known as \"key-value\" pairs. \n",
    "\n",
    "To find a particular value inside your dictionary, you insert the name of the \"key\", like so: `dictionary[keyName]`.\n",
    "\n",
    "\n"
   ]
  },
  {
   "cell_type": "code",
   "execution_count": null,
   "metadata": {
    "collapsed": true
   },
   "outputs": [],
   "source": []
  },
  {
   "cell_type": "code",
   "execution_count": null,
   "metadata": {
    "collapsed": true
   },
   "outputs": [],
   "source": []
  },
  {
   "cell_type": "code",
   "execution_count": null,
   "metadata": {
    "collapsed": true
   },
   "outputs": [],
   "source": []
  },
  {
   "cell_type": "markdown",
   "metadata": {},
   "source": [
    "### Conditionals\n",
    "\n",
    "To use test a condition in python, you use `if`, `elif` (else if), and `else` statements.\n",
    "\n",
    "To use an `if` statement, you structure it like so:\n",
    "\n",
    "```python\n",
    "if condition:\n",
    "    (do a thing)\n",
    "    # If you add 4 spaces to the next line, this means that you're now inside this if statement\n",
    "    # This means that if you want something to only happen when this condition is true, you have to be inside this if\n",
    "\n",
    "# If you remove those spaces, we are now outside of this if statement. This means that regardless of whether that \n",
    "#condition is true, this part of the code is going to run\n",
    "\n",
    "elif condition: #Don't forget the colon! We add the colon at the end of the command we want to make\n",
    "        (do a thing)\n",
    "        \n",
    "        #We use elif statements if we want to test something else IF that original if statement isn't true.\n",
    "        # If the condition before this one IS true, the computer will skip the test in the elif statement\n",
    "        # You can use multiple elif statements one after another, if you want to check multiple things\n",
    "        \n",
    "else:\n",
    "    (do a thing)\n",
    "    #We use else statements if there is something that you want to do ONLY IF NONE OF THE OTHER CONDITIONS ARE MET\n",
    "\n",
    "```\n",
    "    "
   ]
  },
  {
   "cell_type": "code",
   "execution_count": null,
   "metadata": {
    "collapsed": true
   },
   "outputs": [],
   "source": []
  },
  {
   "cell_type": "code",
   "execution_count": null,
   "metadata": {
    "collapsed": true
   },
   "outputs": [],
   "source": []
  },
  {
   "cell_type": "code",
   "execution_count": null,
   "metadata": {
    "collapsed": true
   },
   "outputs": [],
   "source": []
  },
  {
   "cell_type": "markdown",
   "metadata": {},
   "source": [
    "### Loops\n",
    "\n",
    "Loops are a way to perform the same actions, or the set of code within the loop, for however long the loop runs for. There are two options for loops: a `for loop`, which will run through a specific set until it reaches the end, and `while loops`, which will run until a certain condition is no longer true.\n",
    "\n",
    "#### For Loops\n",
    "\n",
    "You structure `for` loops like so:\n",
    "```python\n",
    "\n",
    "for item in collection/dataset: #again, we add the colon to the end\n",
    "    # and the four spaces/tab tells us that we're now INSIDE this for loop.\n",
    "    do this thing until you reach the end of the dataset/collection\n",
    "    \n",
    "```\n",
    "The \"collection/dataset\" you loop through can be a list, or any other collection of data. The `range()` function allows you to create a list-like collection of data that is the same size as the numbers you give it.\n",
    "\n",
    "`range(2)` would give you `[0,1]`, `range(1,4)` would give you `[1,2,3]`, and `range(1,6,2)`would give you `[1,3,5]`\n",
    "\n",
    "\n",
    "\n"
   ]
  },
  {
   "cell_type": "code",
   "execution_count": null,
   "metadata": {
    "collapsed": true
   },
   "outputs": [],
   "source": []
  },
  {
   "cell_type": "code",
   "execution_count": null,
   "metadata": {
    "collapsed": true
   },
   "outputs": [],
   "source": []
  },
  {
   "cell_type": "code",
   "execution_count": null,
   "metadata": {
    "collapsed": true
   },
   "outputs": [],
   "source": []
  },
  {
   "cell_type": "markdown",
   "metadata": {},
   "source": [
    "#### While Loops\n",
    "\n",
    "A while loop will continue until a condition - that you define - is no longer true. \n",
    "\n",
    "Be careful with these - it's very easy to create an infinite loop, or have it continue for slightly longer than you intend it to.\n",
    "\n",
    "The structure of a `while` loop looks like this:\n",
    "\n",
    "```python \n",
    "\n",
    "while condition:\n",
    "    do this thing\n",
    "    \n",
    "```"
   ]
  },
  {
   "cell_type": "code",
   "execution_count": null,
   "metadata": {
    "collapsed": true
   },
   "outputs": [],
   "source": []
  },
  {
   "cell_type": "code",
   "execution_count": null,
   "metadata": {
    "collapsed": true
   },
   "outputs": [],
   "source": []
  },
  {
   "cell_type": "code",
   "execution_count": null,
   "metadata": {
    "collapsed": true
   },
   "outputs": [],
   "source": []
  },
  {
   "cell_type": "markdown",
   "metadata": {},
   "source": [
    "## Homework Challenge\n",
    "\n",
    "Create a for loop that will go through the example list given below. If the list item is a number below or equal to 10, add this number to another list for \"odd\" or \"even\" numbers. If it's a string, add it to another list.\n",
    "\n",
    "Sort the contents of these three lists, then print the outputs of all three on separate lines.\n",
    "\n",
    "An example of the list you might recieve is below, along with some code to help you get started.\n",
    "\n",
    "\n"
   ]
  },
  {
   "cell_type": "code",
   "execution_count": null,
   "metadata": {
    "collapsed": true
   },
   "outputs": [],
   "source": [
    "list1 = [1,3.2,\"Are you having a nice day?\", 2,4,\"Difficulty Increased!\",10,15,11.5,5,6,9,8.2,7,14.8,13,\n",
    "         [\"Nested list\",\"What are you\",\"gonna do about it?\"]]\n",
    "\n",
    "odd = []\n",
    "even = []\n",
    "stringList = []"
   ]
  },
  {
   "cell_type": "code",
   "execution_count": null,
   "metadata": {
    "scrolled": true
   },
   "outputs": [],
   "source": []
  },
  {
   "cell_type": "code",
   "execution_count": null,
   "metadata": {
    "collapsed": true
   },
   "outputs": [],
   "source": []
  }
 ],
 "metadata": {
  "kernelspec": {
   "display_name": "Python 3",
   "language": "python",
   "name": "python3"
  },
  "language_info": {
   "codemirror_mode": {
    "name": "ipython",
    "version": 3
   },
   "file_extension": ".py",
   "mimetype": "text/x-python",
   "name": "python",
   "nbconvert_exporter": "python",
   "pygments_lexer": "ipython3",
   "version": "3.6.1"
  }
 },
 "nbformat": 4,
 "nbformat_minor": 2
}
