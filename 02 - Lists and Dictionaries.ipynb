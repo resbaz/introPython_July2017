{
 "cells": [
  {
   "cell_type": "markdown",
   "metadata": {},
   "source": [
    "# Lists and Dictionaries in Python\n",
    "\n",
    "### Learning Objectives\n",
    "\n",
    "- Lists:\n",
    "    - To understand the basic structure of a list\n",
    "    - To know how to create, index and subset a list\n",
    "    - Learn the difference between mutable and immutable objects\n",
    "    - Adding and deleting list elements\n",
    "        - Describe the difference between append(), insert(), del, remove() & pop()\n",
    "    - List functions\n",
    "- Dictionaries\n",
    "    - Understand the underlying structure of a dictionary\n",
    "    - Know how to access dictionary elements\n",
    "    - Adding and deleting dictionary elements\n",
    "        - Describe the difference between del & pop()\n",
    "- Be able to describe when a situation is best suited for a dictionary vs. a list\n"
   ]
  },
  {
   "cell_type": "markdown",
   "metadata": {},
   "source": [
    "## Lists\n",
    "\n",
    "A list allows you to store many different values, of many different data types, in the same structure. \n",
    "\n",
    "We can make a list by putting the values into square brackets, []\n"
   ]
  },
  {
   "cell_type": "code",
   "execution_count": null,
   "metadata": {
    "scrolled": true
   },
   "outputs": [],
   "source": [
    "#we can make empty lists\n",
    "print(list(), [])"
   ]
  },
  {
   "cell_type": "code",
   "execution_count": null,
   "metadata": {},
   "outputs": [],
   "source": [
    "#Or lists with things inside them\n",
    "[1,2,3,4]"
   ]
  },
  {
   "cell_type": "code",
   "execution_count": null,
   "metadata": {
    "collapsed": true
   },
   "outputs": [],
   "source": [
    "#To save this list though we need to assign it to a variable\n"
   ]
  },
  {
   "cell_type": "markdown",
   "metadata": {},
   "source": [
    "### Indexing a list\n",
    "Sometimes we only want to access certain *elements*, or data, inside a list. We can do by callingthe list *index*, or the position of the data element, from inside the list"
   ]
  },
  {
   "cell_type": "code",
   "execution_count": null,
   "metadata": {},
   "outputs": [],
   "source": [
    "temp_list = [1,2,3,4]\n",
    "\n",
    "temp_list[1]"
   ]
  },
  {
   "cell_type": "markdown",
   "metadata": {},
   "source": [
    "Wait, but that's given us the number 2? Why?\n",
    "\n",
    "---\n",
    "\n",
    "This is because Python actually works based on 0-indexing, meaning that it starts counting from 0 instead of 1. \n",
    "\n",
    "This means that if we want to get the first element of our list, we actually have to call list[0], instead of list[1]"
   ]
  },
  {
   "cell_type": "code",
   "execution_count": null,
   "metadata": {},
   "outputs": [],
   "source": [
    "temp_list[0]"
   ]
  },
  {
   "cell_type": "markdown",
   "metadata": {},
   "source": [
    "You can also use negative index numbers to start counting from the end of the list instead"
   ]
  },
  {
   "cell_type": "code",
   "execution_count": null,
   "metadata": {
    "scrolled": true
   },
   "outputs": [],
   "source": [
    "print('first and last:', temp_list[0],\"and\", temp_list[-1])"
   ]
  },
  {
   "cell_type": "code",
   "execution_count": null,
   "metadata": {
    "collapsed": true
   },
   "outputs": [],
   "source": []
  },
  {
   "cell_type": "code",
   "execution_count": null,
   "metadata": {
    "collapsed": true
   },
   "outputs": [],
   "source": []
  },
  {
   "cell_type": "markdown",
   "metadata": {},
   "source": [
    "### Changing list items\n",
    "\n",
    "One of the properties of lists is that you can over-write data inside the list with new values. This means that lists are **_mutable_**, or changeable.\n",
    "\n",
    "In contrast, strings are actually immutable. If you want to change something inside a string, you have to replace it with a whole new one.\n"
   ]
  },
  {
   "cell_type": "code",
   "execution_count": null,
   "metadata": {},
   "outputs": [],
   "source": [
    "characters = []"
   ]
  },
  {
   "cell_type": "code",
   "execution_count": null,
   "metadata": {},
   "outputs": [],
   "source": [
    "print(\"characters was:\", characters)\n",
    "\n",
    "\n",
    "\n",
    "print(\"characters is now:\",characters)"
   ]
  },
  {
   "cell_type": "code",
   "execution_count": null,
   "metadata": {
    "scrolled": true
   },
   "outputs": [],
   "source": [
    "# Let's try this with a string\n",
    "\n",
    "\n"
   ]
  },
  {
   "cell_type": "markdown",
   "metadata": {},
   "source": [
    "### Slicing\n",
    "\n",
    "Slicing allows us to access *sections* of the list, instead of the whole thing, or only a single element.\n",
    "\n",
    "Slicing can be used on a variety of python data structures, such as strings."
   ]
  },
  {
   "cell_type": "code",
   "execution_count": null,
   "metadata": {},
   "outputs": [],
   "source": [
    "odds = [1, 3, 5, 7]\n",
    "\n",
    "print('Index 1 to 3 is', odds[1:3])\n"
   ]
  },
  {
   "cell_type": "code",
   "execution_count": null,
   "metadata": {},
   "outputs": [],
   "source": [
    "print('Index 2 to end is', odds[2:])"
   ]
  },
  {
   "cell_type": "code",
   "execution_count": null,
   "metadata": {},
   "outputs": [],
   "source": [
    "# but don't go over the edge!\n",
    "\n",
    "odds[4]"
   ]
  },
  {
   "cell_type": "code",
   "execution_count": null,
   "metadata": {},
   "outputs": [],
   "source": [
    "print('Index 1 to -1 is', odds[1:-1])"
   ]
  },
  {
   "cell_type": "code",
   "execution_count": null,
   "metadata": {},
   "outputs": [],
   "source": [
    "print(\"Start to index 2 is:\", odds[:2])"
   ]
  },
  {
   "cell_type": "code",
   "execution_count": null,
   "metadata": {},
   "outputs": [],
   "source": [
    "print('Index start to end is', odds[:])"
   ]
  },
  {
   "cell_type": "code",
   "execution_count": null,
   "metadata": {
    "collapsed": true
   },
   "outputs": [],
   "source": [
    "# You can do the same thing on strings"
   ]
  },
  {
   "cell_type": "code",
   "execution_count": null,
   "metadata": {
    "collapsed": true
   },
   "outputs": [],
   "source": []
  },
  {
   "cell_type": "markdown",
   "metadata": {},
   "source": [
    "### Adding and Deleting List Elements\n",
    "\n",
    "#### Append\n",
    "To add a new variable into a list, we can use the `.append()` method. This adds the newest variable onto the *end* of the list.\n"
   ]
  },
  {
   "cell_type": "code",
   "execution_count": null,
   "metadata": {},
   "outputs": [],
   "source": [
    "print(\"Odds before:\", odds)\n",
    "\n",
    "odds.append(9)\n",
    "\n",
    "print(\"Odds after:\", odds)"
   ]
  },
  {
   "cell_type": "markdown",
   "metadata": {},
   "source": [
    "#### Insert\n",
    "\n",
    "`insert()` lets us put a new item into your list at the location of your choosing. \n",
    "\n",
    "The basic structure of this is list.insert(list index,variable)"
   ]
  },
  {
   "cell_type": "code",
   "execution_count": null,
   "metadata": {
    "collapsed": true
   },
   "outputs": [],
   "source": [
    "odds.insert(5,11)\n",
    "print(odds)"
   ]
  },
  {
   "cell_type": "code",
   "execution_count": null,
   "metadata": {},
   "outputs": [],
   "source": [
    "odds.insert(0,0)\n",
    "print (odds)"
   ]
  },
  {
   "cell_type": "markdown",
   "metadata": {},
   "source": [
    "#### Deleting items\n",
    "\n",
    "There are three options when deleting items from your list. \n",
    "\n",
    "The first is `del`, which removes the item at a specific index location and returns your modified list back to you. This works based on this kind of format, `del list[index]`"
   ]
  },
  {
   "cell_type": "code",
   "execution_count": null,
   "metadata": {},
   "outputs": [],
   "source": [
    "del odds[5]\n",
    "print (odds)"
   ]
  },
  {
   "cell_type": "code",
   "execution_count": null,
   "metadata": {},
   "outputs": [],
   "source": [
    "#Error\n",
    "del odds[12]"
   ]
  },
  {
   "cell_type": "markdown",
   "metadata": {},
   "source": [
    "The second is `remove()`. Rather than deleting from a specific list index, `remove()` will find and delete the first matching *value* from your list, and return your modified list back to you.\n",
    "\n",
    "It's typically used list this: `list.remove(variable)`"
   ]
  },
  {
   "cell_type": "code",
   "execution_count": null,
   "metadata": {},
   "outputs": [],
   "source": [
    "odds.remove(11)\n",
    "print(odds)"
   ]
  },
  {
   "cell_type": "code",
   "execution_count": null,
   "metadata": {},
   "outputs": [],
   "source": [
    "#Error\n",
    "odds.remove(12)"
   ]
  },
  {
   "cell_type": "markdown",
   "metadata": {},
   "source": [
    "Lastly we have `.pop()`. \n",
    "\n",
    "Like `del`, `pop()` is index based. However, while your list is still modified, `pop()` actually gives you back the value that you've removed. "
   ]
  },
  {
   "cell_type": "code",
   "execution_count": null,
   "metadata": {},
   "outputs": [],
   "source": [
    "odds.pop(0)"
   ]
  },
  {
   "cell_type": "code",
   "execution_count": null,
   "metadata": {},
   "outputs": [],
   "source": [
    "print(\"Odds before pop:,\"odds)\n",
    "\n",
    "odds.pop(4)\n",
    "\n",
    "print(\"Odds after pop:\", odds)"
   ]
  },
  {
   "cell_type": "code",
   "execution_count": null,
   "metadata": {},
   "outputs": [],
   "source": [
    "# Error\n",
    "odds.pop(5)"
   ]
  },
  {
   "cell_type": "code",
   "execution_count": null,
   "metadata": {
    "collapsed": true
   },
   "outputs": [],
   "source": []
  },
  {
   "cell_type": "markdown",
   "metadata": {},
   "source": [
    "#### Other list functions\n",
    "\n",
    "More useful list functions are `list.sort()`, and `list.reverse()`\n",
    "\n",
    "`list.sort()` will sort your list based on \"lexicographic order\". This means that capital A-Z are sorted before lower-case a-z. \n",
    "\n",
    "However, sort() will not work if you have both strings and numeric data types in your list. It can only work if they are all strings, or all numeric (a combination of int and float)."
   ]
  },
  {
   "cell_type": "code",
   "execution_count": null,
   "metadata": {
    "collapsed": true
   },
   "outputs": [],
   "source": [
    "names = [\"Kahli\", \"Errol\", \"Mohsen\",\"Hao\"]"
   ]
  },
  {
   "cell_type": "code",
   "execution_count": null,
   "metadata": {},
   "outputs": [],
   "source": [
    "names.sort()\n",
    "print(names)"
   ]
  },
  {
   "cell_type": "code",
   "execution_count": null,
   "metadata": {},
   "outputs": [],
   "source": [
    "names.append(3)\n",
    "print(\"New names:\", names)"
   ]
  },
  {
   "cell_type": "code",
   "execution_count": null,
   "metadata": {
    "scrolled": false
   },
   "outputs": [],
   "source": [
    "#Doesn't work with a mixture of data types\n",
    "names.sort()"
   ]
  },
  {
   "cell_type": "code",
   "execution_count": null,
   "metadata": {},
   "outputs": [],
   "source": [
    "# But is fine with both ints and floats\n",
    "nums = [1,2.5,1.25,8,4]\n",
    "\n",
    "nums.sort()\n",
    "\n",
    "print(nums)\n"
   ]
  },
  {
   "cell_type": "markdown",
   "metadata": {},
   "source": [
    "`reverse()` will take your list and reverse the order of the elements. \n",
    "\n",
    "So a list that was [1,2,3], would become [3,2,1]"
   ]
  },
  {
   "cell_type": "code",
   "execution_count": null,
   "metadata": {},
   "outputs": [],
   "source": [
    "nums.reverse()\n",
    "print(nums)"
   ]
  },
  {
   "cell_type": "code",
   "execution_count": null,
   "metadata": {},
   "outputs": [],
   "source": [
    "#the list doesn't have to be sorted either\n",
    "nums = [1,3,2,6,4,9,6]\n",
    "\n",
    "nums.reverse()\n",
    "\n",
    "print(nums)\n"
   ]
  },
  {
   "cell_type": "markdown",
   "metadata": {},
   "source": [
    "### Challenge\n",
    "\n",
    "So far, most of the elements that we have added to our collections have been string, float, or integer data types. However, the elements of a list can also be a list, or another storage type. This process is called nesting and it is a bit like Russian dolls. "
   ]
  },
  {
   "cell_type": "code",
   "execution_count": null,
   "metadata": {},
   "outputs": [],
   "source": [
    "pets = ['dogs', 'cats', 'fish']\n",
    "print( pets )\n",
    "pets.pop(0)   # Get rid of dogs\n",
    "dog_breeds = ['bulldog', 'terrier', 'greyhound']\n",
    "pets.append(dog_breeds)  # append list of dog breeds available\n",
    "pets"
   ]
  },
  {
   "cell_type": "markdown",
   "metadata": {},
   "source": [
    "With your team mates, work out how to index the nested list so you can sort it, and then return the greyound string\n",
    "\n",
    "Hint: if you index a list like this, `list[0]`, how might you index a list inside a list?"
   ]
  },
  {
   "cell_type": "code",
   "execution_count": null,
   "metadata": {},
   "outputs": [],
   "source": []
  },
  {
   "cell_type": "code",
   "execution_count": null,
   "metadata": {
    "collapsed": true
   },
   "outputs": [],
   "source": []
  },
  {
   "cell_type": "code",
   "execution_count": null,
   "metadata": {
    "collapsed": true
   },
   "outputs": [],
   "source": []
  },
  {
   "cell_type": "code",
   "execution_count": null,
   "metadata": {
    "collapsed": true
   },
   "outputs": [],
   "source": []
  },
  {
   "cell_type": "markdown",
   "metadata": {},
   "source": [
    "## Dictionaries\n",
    "\n",
    "Dictionaries are another kind of data type used by Python.\n",
    "\n",
    "A dictionary is an associative array (also known as hashes, for those who have programmed before). \n",
    "\n",
    "rather than using an index, like a list, a dictionary uses \"keys\", typically strings or numbers, that you define. Each \"key\" of this dictionary is mapped to a value. \n",
    "\n",
    "Like a list, a dictionary can contain any kind of data type for it's values. \n",
    "\n",
    "Dictionaries consist of key-value-pairs, and as they can only be accessed using the 'key' names, they are unordered. \n",
    "\n"
   ]
  },
  {
   "cell_type": "markdown",
   "metadata": {},
   "source": [
    "You can make a dictionary by using `dict()`, or `{}`"
   ]
  },
  {
   "cell_type": "code",
   "execution_count": null,
   "metadata": {
    "collapsed": true
   },
   "outputs": [],
   "source": [
    "# An empty dictionary\n"
   ]
  },
  {
   "cell_type": "code",
   "execution_count": null,
   "metadata": {},
   "outputs": [],
   "source": [
    "# An example of a dictionary with keys and values\n"
   ]
  },
  {
   "cell_type": "code",
   "execution_count": null,
   "metadata": {
    "collapsed": true
   },
   "outputs": [],
   "source": [
    "# Accessing your dictionary\n",
    "\n",
    "\n"
   ]
  },
  {
   "cell_type": "code",
   "execution_count": null,
   "metadata": {
    "collapsed": true
   },
   "outputs": [],
   "source": [
    "# Dictionaries are mutable (they can be changed)\n",
    "\n",
    "\n"
   ]
  },
  {
   "cell_type": "markdown",
   "metadata": {},
   "source": [
    "#### Adding and deleting from your dictionary\n",
    "\n",
    "Adding to your dicitonary is simple - you just \"call\" your dictionary with a new key name, and assign it a value.\n"
   ]
  },
  {
   "cell_type": "code",
   "execution_count": null,
   "metadata": {
    "collapsed": true
   },
   "outputs": [],
   "source": [
    "# Adding new elements\n",
    "\n"
   ]
  },
  {
   "cell_type": "code",
   "execution_count": null,
   "metadata": {
    "collapsed": true
   },
   "outputs": [],
   "source": [
    "# Deleting elements\n",
    "# same as lists, \"pop\" gives you the deleted element\n",
    "\n"
   ]
  },
  {
   "cell_type": "code",
   "execution_count": null,
   "metadata": {},
   "outputs": [],
   "source": [
    "# While del removes the key and value from the dictionary. \n",
    "\n"
   ]
  },
  {
   "cell_type": "code",
   "execution_count": null,
   "metadata": {
    "collapsed": true
   },
   "outputs": [],
   "source": []
  }
 ],
 "metadata": {
  "kernelspec": {
   "display_name": "Python 3",
   "language": "python",
   "name": "python3"
  },
  "language_info": {
   "codemirror_mode": {
    "name": "ipython",
    "version": 3
   },
   "file_extension": ".py",
   "mimetype": "text/x-python",
   "name": "python",
   "nbconvert_exporter": "python",
   "pygments_lexer": "ipython3",
   "version": "3.6.1"
  }
 },
 "nbformat": 4,
 "nbformat_minor": 2
}
